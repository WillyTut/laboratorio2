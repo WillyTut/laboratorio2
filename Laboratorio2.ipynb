{
 "cells": [
  {
   "cell_type": "markdown",
   "metadata": {},
   "source": [
    "# Laboratorio 2\n",
    "\n",
    "__Wily Tut__\n",
    "\n",
    "_Ciencia de Datos en Python_\n",
    "\n",
    "Febrero `2021`\n",
    "***\n"
   ]
  },
  {
   "cell_type": "markdown",
   "metadata": {},
   "source": [
    "## Parte #1 - (Programación y Sintaxis):"
   ]
  },
  {
   "cell_type": "markdown",
   "metadata": {},
   "source": [
    "A continuacióon se le muestran una lista de ejercicios que deberá completar utilizando Python, debe usar Markdown para indicar donde inicia cada uno\n",
    "de los ejercicios.\n",
    "1. Haga un programa en Python que reciba de paráametro un nóumero de segundos y que despliegue\n",
    "en pantalla, las horas, minutos y segundos que representan. \n",
    "\n",
    "_Recuerde manejar excepciones y errores que considere necesarios_"
   ]
  },
  {
   "cell_type": "code",
   "execution_count": 7,
   "metadata": {},
   "outputs": [
    {
     "name": "stdin",
     "output_type": "stream",
     "text": [
      "Ingrese cantidad de segundos:  2743\n"
     ]
    },
    {
     "name": "stdout",
     "output_type": "stream",
     "text": [
      "Horas:  0 Minutos: 45 , Segundos:43\n"
     ]
    }
   ],
   "source": [
    "segundos= int(input (\"Ingrese cantidad de segundos: \"))\n",
    "horas= segundos // (60*60)\n",
    "segundos= segundos % (60*60)\n",
    "minutos= segundos // 60\n",
    "segundos= segundos % 60\n",
    "while (segundos!= int and segundos >0):\n",
    "    print(\"ingrese un genero valido\")\n",
    "    a=input()\n",
    "print (\"Horas:  {} Minutos: {} , Segundos:{}\". format(horas, minutos, segundos))"
   ]
  },
  {
   "cell_type": "markdown",
   "metadata": {},
   "source": [
    "2. Haga una función en Python que dado un núumero entre 1 y 20. Y un carácter cualquiera despliegue cuatro patrones triangulares"
   ]
  },
  {
   "cell_type": "code",
   "execution_count": 10,
   "metadata": {},
   "outputs": [
    {
     "name": "stdin",
     "output_type": "stream",
     "text": [
      "Ingrese un valor númerico:  6\n",
      "Ingrese un caracter:  $\n"
     ]
    },
    {
     "name": "stdout",
     "output_type": "stream",
     "text": [
      "Forma A\n",
      "$\n",
      "$$\n",
      "$$$\n",
      "$$$$\n",
      "$$$$$\n",
      "$$$$$$\n",
      "Forma B\n",
      "$$$$$$\n",
      "$$$$$\n",
      "$$$$\n",
      "$$$\n",
      "$$\n",
      "$\n",
      "Forma C\n",
      "        \n",
      "       $\n",
      "      $$\n",
      "     $$$\n",
      "    $$$$\n",
      "   $$$$$\n",
      "  $$$$$$\n",
      "Forma D\n",
      "$$$$$$\n",
      " $$$$$\n",
      "  $$$$\n",
      "   $$$\n",
      "    $$\n",
      "     $\n"
     ]
    }
   ],
   "source": [
    "n = int(input(\"Ingrese un valor númerico: \"))\n",
    "simbolo = input(\"Ingrese un caracter: \")\n",
    "\n",
    "print (\"Forma A\")\n",
    "for i in range(1, n + 1):\n",
    "    for j in range(i):\n",
    "        print(simbolo, end=\"\")\n",
    "    print()\n",
    "\n",
    "\n",
    "print (\"Forma B\")\n",
    "for i in range(1, n+1):\n",
    "    for j in range(n+1-i):\n",
    "        print(\"\",end=simbolo)\n",
    "    print()\n",
    "\n",
    "\n",
    "print (\"Forma C\")\n",
    "for i in range (n+1):\n",
    "    espacios= numero-i\n",
    "    print (\" \" * espacios + simbolo * i)\n",
    "\n",
    "\n",
    "print (\"Forma D\")\n",
    "for i in range (n):\n",
    "    espacios= i\n",
    "    print (\" \" * espacios + simbolo * (n-i))"
   ]
  },
  {
   "cell_type": "markdown",
   "metadata": {},
   "source": [
    "3. Haga un programa en Python que la fecha de nacimiento de una persona (puede ingresar por separado cada valor, es decir pedir primero día, luego mes y luego añoo), despliegue la edad de la persona en años, meses y días. Su resultado puede ser aproximado."
   ]
  },
  {
   "cell_type": "code",
   "execution_count": 13,
   "metadata": {},
   "outputs": [
    {
     "name": "stdin",
     "output_type": "stream",
     "text": [
      "Ingrese numero de día de nacimiento: 10\n",
      "Ingrese numero de mes de nacimiento: 10\n",
      "Ingrese numero de año de nacimiento: 10\n"
     ]
    },
    {
     "name": "stdout",
     "output_type": "stream",
     "text": [
      "La edad es:  2010  años 4  meses 11  días\n"
     ]
    }
   ],
   "source": [
    "from datetime import date\n",
    "from datetime import datetime\n",
    "from dateutil.relativedelta import relativedelta\n",
    "\n",
    "dd=int(input(\"Ingrese numero de día de nacimiento:\"))\n",
    "mm=int(input(\"Ingrese numero de mes de nacimiento:\"))\n",
    "aa=int(input(\"Ingrese numero de año de nacimiento:\"))\n",
    "\n",
    "fecha_nac = datetime(aa,mm,dd)\n",
    "hoy = datetime.now()\n",
    "\n",
    "edad = relativedelta(hoy, fecha_nac)\n",
    "print(\"La edad es: \",\n",
    "edad.years, \" años\",\n",
    "edad.months, \" meses\",\n",
    "edad.days, \" días\"\n",
    ")\n",
    "\n"
   ]
  },
  {
   "cell_type": "markdown",
   "metadata": {},
   "source": [
    "## Parte #2 - (Estructuras de Datos):\n",
    "Resuelva los siguientes ejercicios sobre estructuras de datos en Python"
   ]
  },
  {
   "cell_type": "markdown",
   "metadata": {},
   "source": [
    "1. Escriba una función en Python que dada una tupla de elementos (numeros o letras) esta se convierta a un string."
   ]
  },
  {
   "cell_type": "code",
   "execution_count": 11,
   "metadata": {},
   "outputs": [
    {
     "name": "stdin",
     "output_type": "stream",
     "text": [
      "Ingrese el primer valor 67\n",
      "Ingrese el segundo valor: 78\n",
      "Ingrese el terecer valor: kj\n",
      "Ingrese el cuarto valor:  lj\n"
     ]
    },
    {
     "name": "stdout",
     "output_type": "stream",
     "text": [
      "6778kjlj\n"
     ]
    }
   ],
   "source": [
    "v1= input(\"Ingrese el primer valor\")\n",
    "v2= input(\"Ingrese el segundo valor:\")\n",
    "v3= input(\"Ingrese el terecer valor:\")\n",
    "v4= input (\"Ingrese el cuarto valor: \")\n",
    "union= (v1, v2, v3, v4)\n",
    "\n",
    "tupla=\"\".join(union)\n",
    "print (tupla)\n"
   ]
  },
  {
   "cell_type": "markdown",
   "metadata": {},
   "source": [
    "2. Cree un programa en Python que dada una lista de tuplas, elimine las tuplas que están vacías."
   ]
  },
  {
   "cell_type": "code",
   "execution_count": 15,
   "metadata": {},
   "outputs": [
    {
     "name": "stdout",
     "output_type": "stream",
     "text": [
      "[(), (), ('X',), ('a', 'b'), ('a', 'b', 'c'), 'd']\n",
      "6\n"
     ]
    }
   ],
   "source": [
    "tuplas = [(), (), ('X',), ('a', 'b'), ('a', 'b', 'c'), ('d')]\n",
    "print (tuplas)\n",
    "print (len(tuplas))\n"
   ]
  },
  {
   "cell_type": "code",
   "execution_count": 16,
   "metadata": {},
   "outputs": [
    {
     "name": "stdout",
     "output_type": "stream",
     "text": [
      "[('X',), ('a', 'b'), ('a', 'b', 'c'), 'd']\n",
      "4\n"
     ]
    }
   ],
   "source": [
    "tuplas= [i for i in tuplas if i ]\n",
    "print (tuplas)\n",
    "print (len(tuplas))"
   ]
  },
  {
   "cell_type": "markdown",
   "metadata": {},
   "source": [
    "3. Cree una función en Python que dada una tupla de tuplas con numeros, produzca una tupla con el promedio de cada tupla individual. "
   ]
  },
  {
   "cell_type": "code",
   "execution_count": 2,
   "metadata": {},
   "outputs": [
    {
     "data": {
      "text/plain": [
       "(10.5, 44, 58)"
      ]
     },
     "execution_count": 2,
     "metadata": {},
     "output_type": "execute_result"
    }
   ],
   "source": [
    "from statistics import mean\n",
    "lista = ((10, 10, 10, 12), (30, 45, 56, 45), (81, 80, 39, 32))\n",
    "lista2 = tuple(lista)\n",
    "\n",
    "lst = [mean(i) for i in lista2]\n",
    "tuple(lst)"
   ]
  }
 ],
 "metadata": {
  "kernelspec": {
   "display_name": "Python 3",
   "language": "python",
   "name": "python3"
  },
  "language_info": {
   "codemirror_mode": {
    "name": "ipython",
    "version": 3
   },
   "file_extension": ".py",
   "mimetype": "text/x-python",
   "name": "python",
   "nbconvert_exporter": "python",
   "pygments_lexer": "ipython3",
   "version": "3.7.4"
  }
 },
 "nbformat": 4,
 "nbformat_minor": 4
}
